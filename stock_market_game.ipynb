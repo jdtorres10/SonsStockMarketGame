{
 "cells": [
  {
   "cell_type": "markdown",
   "metadata": {},
   "source": [
    "## This program was created to calculate the percentage growth or loss in a 6 week stock market game, my sons and I constructed at home. \n"
   ]
  },
  {
   "cell_type": "markdown",
   "metadata": {},
   "source": [
    "### First I will create a list of the 10 Stocks my oldest son selected for his \"portfolio\""
   ]
  },
  {
   "cell_type": "code",
   "execution_count": 39,
   "metadata": {},
   "outputs": [],
   "source": [
    "MJ_Stocks = ['ADDYY','MSFT','NKE','LYV','AAPL','TXRH','SNE','UAA','AAL','NFLX']"
   ]
  },
  {
   "cell_type": "markdown",
   "metadata": {},
   "source": [
    "### Then I will create a list of the purchase price for the 10 stocks he chose on 24 March 2020"
   ]
  },
  {
   "cell_type": "code",
   "execution_count": 40,
   "metadata": {},
   "outputs": [],
   "source": [
    "MJ_PurchPrice = [96, 137.35, 67.45, 33.97, 229.24, 35.85, 53.06, 7.23, 10.38, 332.83]"
   ]
  },
  {
   "cell_type": "code",
   "execution_count": 41,
   "metadata": {},
   "outputs": [
    {
     "ename": "AttributeError",
     "evalue": "'list' object has no attribute 'sum'",
     "output_type": "error",
     "traceback": [
      "\u001b[0;31m---------------------------------------------------------------------------\u001b[0m",
      "\u001b[0;31mAttributeError\u001b[0m                            Traceback (most recent call last)",
      "\u001b[0;32m<ipython-input-41-1f114932973c>\u001b[0m in \u001b[0;36m<module>\u001b[0;34m()\u001b[0m\n\u001b[1;32m      1\u001b[0m \u001b[0;31m#My first attempt to sum the elements in MJ_PurchPrice list\u001b[0m\u001b[0;34m\u001b[0m\u001b[0;34m\u001b[0m\u001b[0;34m\u001b[0m\u001b[0m\n\u001b[0;32m----> 2\u001b[0;31m \u001b[0mMJ_PurchPrice\u001b[0m\u001b[0;34m.\u001b[0m\u001b[0msum\u001b[0m\u001b[0;34m(\u001b[0m\u001b[0;34m)\u001b[0m\u001b[0;34m\u001b[0m\u001b[0;34m\u001b[0m\u001b[0m\n\u001b[0m\u001b[1;32m      3\u001b[0m \u001b[0mprint\u001b[0m\u001b[0;34m(\u001b[0m\u001b[0mPurchPrice\u001b[0m\u001b[0;34m)\u001b[0m\u001b[0;34m\u001b[0m\u001b[0;34m\u001b[0m\u001b[0m\n",
      "\u001b[0;31mAttributeError\u001b[0m: 'list' object has no attribute 'sum'"
     ]
    }
   ],
   "source": [
    "#My first attempt to sum the elements in MJ_PurchPrice list\n",
    "MJ_PurchPrice.sum()\n",
    "print(PurchPrice)"
   ]
  },
  {
   "cell_type": "code",
   "execution_count": 52,
   "metadata": {},
   "outputs": [
    {
     "data": {
      "text/plain": [
       "list"
      ]
     },
     "execution_count": 52,
     "metadata": {},
     "output_type": "execute_result"
    }
   ],
   "source": [
    "#Oops I guess I used the wrong method or function, let me make sure I'm working a Python list and not an Object\n",
    "type(MJ_PurchPrice)"
   ]
  },
  {
   "cell_type": "code",
   "execution_count": 53,
   "metadata": {},
   "outputs": [
    {
     "data": {
      "text/plain": [
       "1003.3600000000001"
      ]
     },
     "execution_count": 53,
     "metadata": {},
     "output_type": "execute_result"
    }
   ],
   "source": [
    "#I forget that to call the function 'sum', you put the function IN FRONT of the argument, in this case my list. \n",
    "sum(MJ_PurchPrice)"
   ]
  },
  {
   "cell_type": "code",
   "execution_count": null,
   "metadata": {},
   "outputs": [],
   "source": [
    "#Now I create a list of stock prices as of May 1 2020\n",
    "MJ_May1Price = [112.15, 174.57, 85.54, 41.17, 289.07, 44.86, 62.73, 9.80, 10.64, 415.27]"
   ]
  },
  {
   "cell_type": "code",
   "execution_count": 42,
   "metadata": {},
   "outputs": [
    {
     "data": {
      "text/plain": [
       "[16.822916666666675,\n",
       " 27.098653076083,\n",
       " 26.819866567828026,\n",
       " 21.19517221077422,\n",
       " 26.099284592566736,\n",
       " 25.13249651324965,\n",
       " 18.22465133810779,\n",
       " 35.5463347164592,\n",
       " 2.5048169556840056,\n",
       " 24.769401796713037]"
      ]
     },
     "execution_count": 42,
     "metadata": {},
     "output_type": "execute_result"
    }
   ],
   "source": [
    "PctChangeList = [(MJ_May1Price[0]- MJ_PurchPrice[0])/MJ_PurchPrice[0]*100, (MJ_May1Price[1]- MJ_PurchPrice[1])/MJ_PurchPrice[1]*100, (MJ_May1Price[2]- MJ_PurchPrice[2])/MJ_PurchPrice[2]*100, (MJ_May1Price[3]- MJ_PurchPrice[3])/MJ_PurchPrice[3]*100, (MJ_May1Price[4]- MJ_PurchPrice[4])/MJ_PurchPrice[4]*100,(MJ_May1Price[5]- MJ_PurchPrice[5])/MJ_PurchPrice[5]*100, (MJ_May1Price[6]- MJ_PurchPrice[6])/MJ_PurchPrice[6]*100, (MJ_May1Price[7]- MJ_PurchPrice[7])/MJ_PurchPrice[7]*100, (MJ_May1Price[8]- MJ_PurchPrice[8])/MJ_PurchPrice[8]*100, (MJ_May1Price[9]- MJ_PurchPrice[9])/MJ_PurchPrice[9]*100]\n",
    "PctChangeList"
   ]
  },
  {
   "cell_type": "markdown",
   "metadata": {},
   "source": [
    "### Now I am going to create a dictionary pairing the stock percentage gains and losses to the stocks my son invested in by using a line of code I found with a simple Google query. The coder who shared this on whatever forum I found it nested a loop that probably wouldv'e taken me many more lines of code :) "
   ]
  },
  {
   "cell_type": "code",
   "execution_count": 43,
   "metadata": {},
   "outputs": [
    {
     "data": {
      "text/plain": [
       "{'ADDYY': 16.822916666666675,\n",
       " 'MSFT': 27.098653076083,\n",
       " 'NKE': 26.819866567828026,\n",
       " 'LYV': 21.19517221077422,\n",
       " 'AAPL': 26.099284592566736,\n",
       " 'TXRH': 25.13249651324965,\n",
       " 'SNE': 18.22465133810779,\n",
       " 'UAA': 35.5463347164592,\n",
       " 'AAL': 2.5048169556840056,\n",
       " 'NFLX': 24.769401796713037}"
      ]
     },
     "execution_count": 43,
     "metadata": {},
     "output_type": "execute_result"
    }
   ],
   "source": [
    "# to convert lists to dictionary \n",
    "PctChangeDict = {MJ_Stocks[i]: PctChangeList[i] for i in range(len(MJ_Stocks))}\n",
    "PctChangeDict"
   ]
  },
  {
   "cell_type": "markdown",
   "metadata": {},
   "source": [
    "### What I forgot to mention was that my son's \"initial investment\" was just under 5000.00, so now I'm going to calculate his overall investment growth in percentage"
   ]
  },
  {
   "cell_type": "code",
   "execution_count": 44,
   "metadata": {},
   "outputs": [
    {
     "name": "stdout",
     "output_type": "stream",
     "text": [
      "My oldest son's initial investment of 4973.1 has grown by 25.566749110212942 giving him a new total of 6244.56\n"
     ]
    }
   ],
   "source": [
    "Initial_Investment = 4973.10\n",
    "Investment_Growth = 1271.46\n",
    "InvestmentTotal = Initial_Investment + Investment_Growth\n",
    "Pctg_Overall = ((InvestmentTotal-Initial_Investment)/Initial_Investment*100)\n",
    "print(\"My oldest son's initial investment of\", Initial_Investment, 'has grown by', Pctg_Overall,'giving him a new total of',InvestmentTotal)"
   ]
  },
  {
   "cell_type": "markdown",
   "metadata": {},
   "source": [
    "# Now I'm going to do the same for my youngest son's \"investments\""
   ]
  },
  {
   "cell_type": "code",
   "execution_count": 45,
   "metadata": {},
   "outputs": [],
   "source": [
    "#First I'll create a list of 10 stock picks\n",
    "IT_Stocks = ['MSFT','SNE','ADDY','AMZN','AAPL','TXRH','WMT','DKS','SPG','NKE']"
   ]
  },
  {
   "cell_type": "code",
   "execution_count": 46,
   "metadata": {},
   "outputs": [],
   "source": [
    "#And now a list of the stocks purchase price he selected on 24 March 2020\n",
    "IT_PurchPrice = [137.35, 53.06, 96, 1846.09, 229.24, 35.85, 113.97, 16.81, 48.14, 67.45]"
   ]
  },
  {
   "cell_type": "markdown",
   "metadata": {},
   "source": [
    "### This time I'm going to show how many shares he bought so we can calculate a sum of his 'initial invesment'"
   ]
  },
  {
   "cell_type": "code",
   "execution_count": 47,
   "metadata": {},
   "outputs": [
    {
     "name": "stdout",
     "output_type": "stream",
     "text": [
      "My youngest son's initial investment total was 4962.499999999999\n"
     ]
    }
   ],
   "source": [
    "IT_PurchPriceTotals = [IT_PurchPrice[0]*2, IT_PurchPrice[1]*3, IT_PurchPrice[2]*6, IT_PurchPrice[3]*1, IT_PurchPrice[4]*4, IT_PurchPrice[5]*4, IT_PurchPrice[6]*2, IT_PurchPrice[7]*8, IT_PurchPrice[8]*10, IT_PurchPrice[9]*3]\n",
    "IT_PurchPriceTotals\n",
    "print(\"My youngest son's initial investment total was\", sum(IT_PurchPriceTotals))"
   ]
  },
  {
   "cell_type": "code",
   "execution_count": 48,
   "metadata": {},
   "outputs": [],
   "source": [
    "# Now I'll create a list of the stocks at their value of as 1 May 2020\n",
    "IT_May1Price = [174.57, 62.73, 112.15, 2286.04, 298.07, 44.86, 122.92, 27.21, 63.20, 85.54]"
   ]
  },
  {
   "cell_type": "code",
   "execution_count": 49,
   "metadata": {},
   "outputs": [
    {
     "data": {
      "text/plain": [
       "[27.098653076083,\n",
       " 18.22465133810779,\n",
       " 16.822916666666675,\n",
       " 23.8314491709505,\n",
       " 30.025300994590815,\n",
       " 25.13249651324965,\n",
       " 7.852943757129072,\n",
       " 61.86793575252827,\n",
       " 31.283755712505197,\n",
       " 26.819866567828026]"
      ]
     },
     "execution_count": 49,
     "metadata": {},
     "output_type": "execute_result"
    }
   ],
   "source": [
    "PctChangeList2 = [(IT_May1Price[0]- IT_PurchPrice[0])/IT_PurchPrice[0]*100, (IT_May1Price[1]- IT_PurchPrice[1])/IT_PurchPrice[1]*100, (IT_May1Price[2]- IT_PurchPrice[2])/IT_PurchPrice[2]*100, (IT_May1Price[3]- IT_PurchPrice[3])/IT_PurchPrice[3]*100, (IT_May1Price[4]- IT_PurchPrice[4])/IT_PurchPrice[4]*100,(IT_May1Price[5]- IT_PurchPrice[5])/IT_PurchPrice[5]*100, (IT_May1Price[6]- IT_PurchPrice[6])/IT_PurchPrice[6]*100, (IT_May1Price[7]- IT_PurchPrice[7])/IT_PurchPrice[7]*100, (IT_May1Price[8]- IT_PurchPrice[8])/IT_PurchPrice[8]*100, (IT_May1Price[9]- IT_PurchPrice[9])/IT_PurchPrice[9]*100]\n",
    "PctChangeList2"
   ]
  },
  {
   "cell_type": "code",
   "execution_count": 50,
   "metadata": {},
   "outputs": [
    {
     "data": {
      "text/plain": [
       "{'MSFT': 27.098653076083,\n",
       " 'SNE': 18.22465133810779,\n",
       " 'ADDY': 16.822916666666675,\n",
       " 'AMZN': 23.8314491709505,\n",
       " 'AAPL': 30.025300994590815,\n",
       " 'TXRH': 25.13249651324965,\n",
       " 'WMT': 7.852943757129072,\n",
       " 'DKS': 61.86793575252827,\n",
       " 'SPG': 31.283755712505197,\n",
       " 'NKE': 26.819866567828026}"
      ]
     },
     "execution_count": 50,
     "metadata": {},
     "output_type": "execute_result"
    }
   ],
   "source": [
    "#Here I use the lists to dictionary line of code I spoke about earlier. \n",
    "\n",
    "#to convert lists to dictionary \n",
    "PctChangeDict2 = {IT_Stocks[i]: PctChangeList2[i] for i in range(len(IT_Stocks))}\n",
    "PctChangeDict2"
   ]
  },
  {
   "cell_type": "code",
   "execution_count": 51,
   "metadata": {},
   "outputs": [
    {
     "name": "stdout",
     "output_type": "stream",
     "text": [
      "My youngest son's initial investment of 4962.5 has grown by 25.34267002518892 giving him a new total of 6220.13\n"
     ]
    }
   ],
   "source": [
    "Initial_Investment2 = 4962.50\n",
    "Investment_Growth2 = 1257.63\n",
    "InvestmentTotal2 = Initial_Investment2 + Investment_Growth2\n",
    "Pctg_Overall2 = ((InvestmentTotal2-Initial_Investment2)/Initial_Investment2*100)\n",
    "print(\"My youngest son's initial investment of\", Initial_Investment2, 'has grown by', Pctg_Overall2,'giving him a new total of',InvestmentTotal2)"
   ]
  },
  {
   "cell_type": "markdown",
   "metadata": {},
   "source": [
    "### Ultimately you can see that both of my sons fared well in their stock market game.  Hopefully, I as a novice coder did a good enough job to demonstrate my use of python.  I am absolutely sure there is someone out there who can help clean up this code and make my coding far more efficient, so I invite any suggestions to do so.\n",
    "\n",
    "### If I were more savy in my Python abilities I would've sought out methods to create a python function that could do the math on each investment as I input in the necessary data: Stock Symbol, Stock Purchase Price, Stock Closeout Price or even perhaps figured out a way to automate the whole program to reflect real time changes like Yahoo Finance or the Apple Stocks application :) "
   ]
  },
  {
   "cell_type": "code",
   "execution_count": null,
   "metadata": {},
   "outputs": [],
   "source": []
  }
 ],
 "metadata": {
  "kernelspec": {
   "display_name": "Python 3",
   "language": "python",
   "name": "python3"
  },
  "language_info": {
   "codemirror_mode": {
    "name": "ipython",
    "version": 3
   },
   "file_extension": ".py",
   "mimetype": "text/x-python",
   "name": "python",
   "nbconvert_exporter": "python",
   "pygments_lexer": "ipython3",
   "version": "3.6.8"
  }
 },
 "nbformat": 4,
 "nbformat_minor": 2
}
